{
 "cells": [
  {
   "cell_type": "markdown",
   "id": "b1b53f7e",
   "metadata": {},
   "source": [
    "## 動作確認用"
   ]
  },
  {
   "cell_type": "code",
   "execution_count": 6,
   "id": "1dc36df9",
   "metadata": {},
   "outputs": [
    {
     "name": "stdout",
     "output_type": "stream",
     "text": [
      "取得結果:\n",
      "{\n",
      "  \"region_id\": \"ugyGiVvlg4fDN2afMnoe(RegionID)\",\n",
      "  \"news\": [\n",
      "    {\n",
      "      \"id\": \"BVYIDOrVGLn6gGpzt5aB(NewsID)\",\n",
      "      \"Title\": \"不審者がでました\",\n",
      "      \"Time\": \"2025-04-10T05:18:58.143000+00:00\",\n",
      "      \"Text\": \"○○で不審者が出ました。気をつけてください。ここは本文です。\"\n",
      "    }\n",
      "  ],\n",
      "  \"next_cursor\": \"BVYIDOrVGLn6gGpzt5aB(NewsID)\"\n",
      "}\n"
     ]
    }
   ],
   "source": [
    "import firebase_admin\n",
    "from firebase_admin import credentials, firestore\n",
    "import json\n",
    "from datetime import datetime\n",
    "\n",
    "class FirestoreEncoder(json.JSONEncoder):\n",
    "    \"\"\"\n",
    "    Firestoreの特殊データ型をJSONシリアライズ可能な形式に変換するカスタムエンコーダ\n",
    "    \n",
    "    Attributes:\n",
    "        継承: json.JSONEncoder\n",
    "    \"\"\"\n",
    "    def default(self, obj):\n",
    "        \"\"\"\n",
    "        特殊なデータ型を変換するメソッド\n",
    "        \n",
    "        Args:\n",
    "            obj: 変換対象のオブジェクト\n",
    "            \n",
    "        Returns:\n",
    "            シリアライズ可能な形式に変換されたデータ\n",
    "        \"\"\"\n",
    "        # DatetimeWithNanoseconds → ISOフォーマット文字列\n",
    "        if hasattr(obj, 'isoformat'):\n",
    "            return obj.isoformat()\n",
    "            \n",
    "        # バイナリデータ → UTF-8文字列\n",
    "        if isinstance(obj, bytes):\n",
    "            return obj.decode('utf-8')\n",
    "            \n",
    "        # その他の型はデフォルト処理\n",
    "        return super().default(obj)\n",
    "\n",
    "def get_all_news_json(region_id, page_size=100, last_doc=None):\n",
    "    \"\"\"\n",
    "    指定されたRegionID配下の全ニュースデータを取得\n",
    "    \n",
    "    Args:\n",
    "        region_id (str): 地域ID\n",
    "        page_size (int): 1ページあたりの取得件数（デフォルト100）\n",
    "        last_doc (str): 前回取得最後のドキュメントID（ページネーション用）\n",
    "        \n",
    "    Returns:\n",
    "        str: JSON形式の文字列\n",
    "    \"\"\"\n",
    "    try:\n",
    "        # Firebase初期化（シングルトンパターン）\n",
    "        if not firebase_admin._apps:\n",
    "            cred = credentials.Certificate(\n",
    "                r\"C:\\Users\\saiha\\Downloads\\Firebase_地域共生ID.json\"\n",
    "            )\n",
    "            firebase_admin.initialize_app(cred)\n",
    "\n",
    "        # Firestoreクライアント初期化\n",
    "        db = firestore.client()\n",
    "        \n",
    "        # Newsサブコレクション参照取得\n",
    "        news_collection = (\n",
    "            db.collection('Regions')\n",
    "            .document(region_id)\n",
    "            .collection('News')  # サブコレクション参照\n",
    "        )\n",
    "        \n",
    "        # クエリ構築\n",
    "        query = news_collection.order_by('__name__').limit(page_size)\n",
    "        \n",
    "        # ページネーション処理（前回取得位置から再開）\n",
    "        if last_doc:\n",
    "            last_snapshot = news_collection.document(last_doc).get()\n",
    "            query = query.start_after(last_snapshot)\n",
    "\n",
    "        # ドキュメント取得\n",
    "        docs = query.stream()\n",
    "        \n",
    "        # データ変換処理\n",
    "        news_data = [\n",
    "            {\"id\": doc.id, **doc.to_dict()}  # ドキュメントIDを追加\n",
    "            for doc in docs\n",
    "        ]\n",
    "        \n",
    "        # 次ページ用カーソル\n",
    "        next_cursor = news_data[-1]['id'] if news_data else None\n",
    "\n",
    "        # JSON形式に変換\n",
    "        return json.dumps(\n",
    "            {\n",
    "                \"region_id\": region_id,\n",
    "                \"news\": news_data,\n",
    "                \"next_cursor\": next_cursor\n",
    "            },\n",
    "            ensure_ascii=False,  # 非ASCII文字対応\n",
    "            indent=2,  # 可読性のためインデント\n",
    "            cls=FirestoreEncoder  # カスタムエンコーダ適用\n",
    "        )\n",
    "\n",
    "    except Exception as e:\n",
    "        # エラー処理\n",
    "        return json.dumps(\n",
    "            {\n",
    "                \"error\": str(e),\n",
    "                \"type\": type(e).__name__,\n",
    "                \"region_id\": region_id\n",
    "            },\n",
    "            ensure_ascii=False\n",
    "        )\n",
    "\n",
    "# 使用例 ---------------------------------------------------\n",
    "if __name__ == \"__main__\":\n",
    "    # 地域ID指定（実際のIDに置き換える）\n",
    "    region_id = \"ugyGiVvlg4fDN2afMnoe(RegionID)\"\n",
    "    \n",
    "    # 可変式でニュース取得件数を指定\n",
    "    page_size = 50  # 例えば50件取得したい場合\n",
    "    \n",
    "    # 全ニュースデータ取得（初回）\n",
    "    result = get_all_news_json(region_id, page_size=page_size)\n",
    "    print(\"取得結果:\")\n",
    "    print(result)"
   ]
  },
  {
   "cell_type": "code",
   "execution_count": 7,
   "id": "0bde8872",
   "metadata": {},
   "outputs": [
    {
     "data": {
      "text/plain": [
       "str"
      ]
     },
     "execution_count": 7,
     "metadata": {},
     "output_type": "execute_result"
    }
   ],
   "source": [
    "type(result)"
   ]
  },
  {
   "cell_type": "code",
   "execution_count": null,
   "id": "e5ac08fb",
   "metadata": {},
   "outputs": [],
   "source": []
  }
 ],
 "metadata": {
  "kernelspec": {
   "display_name": "Python 3 (ipykernel)",
   "language": "python",
   "name": "python3"
  },
  "language_info": {
   "codemirror_mode": {
    "name": "ipython",
    "version": 3
   },
   "file_extension": ".py",
   "mimetype": "text/x-python",
   "name": "python",
   "nbconvert_exporter": "python",
   "pygments_lexer": "ipython3",
   "version": "3.11.3"
  }
 },
 "nbformat": 4,
 "nbformat_minor": 5
}
